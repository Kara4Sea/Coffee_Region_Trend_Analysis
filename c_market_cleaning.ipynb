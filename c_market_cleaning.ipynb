{
 "cells": [
  {
   "cell_type": "code",
   "execution_count": 5,
   "id": "615fbcb6",
   "metadata": {},
   "outputs": [],
   "source": [
    "# import dependencies\n",
    "import pathlib as path\n",
    "import numpy as np\n",
    "import pandas as pd"
   ]
  },
  {
   "cell_type": "code",
   "execution_count": 6,
   "id": "1b33ce3d",
   "metadata": {},
   "outputs": [
    {
     "data": {
      "text/html": [
       "<div>\n",
       "<style scoped>\n",
       "    .dataframe tbody tr th:only-of-type {\n",
       "        vertical-align: middle;\n",
       "    }\n",
       "\n",
       "    .dataframe tbody tr th {\n",
       "        vertical-align: top;\n",
       "    }\n",
       "\n",
       "    .dataframe thead th {\n",
       "        text-align: right;\n",
       "    }\n",
       "</style>\n",
       "<table border=\"1\" class=\"dataframe\">\n",
       "  <thead>\n",
       "    <tr style=\"text-align: right;\">\n",
       "      <th></th>\n",
       "      <th>date</th>\n",
       "      <th>value</th>\n",
       "    </tr>\n",
       "  </thead>\n",
       "  <tbody>\n",
       "    <tr>\n",
       "      <th>0</th>\n",
       "      <td>8/20/1973</td>\n",
       "      <td>0.6735</td>\n",
       "    </tr>\n",
       "    <tr>\n",
       "      <th>1</th>\n",
       "      <td>8/21/1973</td>\n",
       "      <td>0.6710</td>\n",
       "    </tr>\n",
       "    <tr>\n",
       "      <th>2</th>\n",
       "      <td>8/22/1973</td>\n",
       "      <td>0.6580</td>\n",
       "    </tr>\n",
       "    <tr>\n",
       "      <th>3</th>\n",
       "      <td>8/23/1973</td>\n",
       "      <td>0.6675</td>\n",
       "    </tr>\n",
       "    <tr>\n",
       "      <th>4</th>\n",
       "      <td>8/24/1973</td>\n",
       "      <td>0.6660</td>\n",
       "    </tr>\n",
       "  </tbody>\n",
       "</table>\n",
       "</div>"
      ],
      "text/plain": [
       "        date   value\n",
       "0  8/20/1973  0.6735\n",
       "1  8/21/1973  0.6710\n",
       "2  8/22/1973  0.6580\n",
       "3  8/23/1973  0.6675\n",
       "4  8/24/1973  0.6660"
      ]
     },
     "execution_count": 6,
     "metadata": {},
     "output_type": "execute_result"
    }
   ],
   "source": [
    "# export csv into dataframe\n",
    "df_cmarket = pd.read_csv(\"Resources/coffee-prices-historical-chart-data.csv\")\n",
    "df_cmarket.head()"
   ]
  },
  {
   "cell_type": "code",
   "execution_count": 7,
   "id": "a2b1d8a8",
   "metadata": {},
   "outputs": [
    {
     "data": {
      "text/plain": [
       "date       object\n",
       " value    float64\n",
       "dtype: object"
      ]
     },
     "execution_count": 7,
     "metadata": {},
     "output_type": "execute_result"
    }
   ],
   "source": [
    "#find dtypes\n",
    "df_cmarket.dtypes"
   ]
  },
  {
   "cell_type": "code",
   "execution_count": 11,
   "id": "e15a8d59",
   "metadata": {},
   "outputs": [
    {
     "data": {
      "text/html": [
       "<div>\n",
       "<style scoped>\n",
       "    .dataframe tbody tr th:only-of-type {\n",
       "        vertical-align: middle;\n",
       "    }\n",
       "\n",
       "    .dataframe tbody tr th {\n",
       "        vertical-align: top;\n",
       "    }\n",
       "\n",
       "    .dataframe thead th {\n",
       "        text-align: right;\n",
       "    }\n",
       "</style>\n",
       "<table border=\"1\" class=\"dataframe\">\n",
       "  <thead>\n",
       "    <tr style=\"text-align: right;\">\n",
       "      <th></th>\n",
       "      <th>date</th>\n",
       "      <th>value</th>\n",
       "    </tr>\n",
       "  </thead>\n",
       "  <tbody>\n",
       "    <tr>\n",
       "      <th>0</th>\n",
       "      <td>1973-08-20</td>\n",
       "      <td>0.6735</td>\n",
       "    </tr>\n",
       "    <tr>\n",
       "      <th>1</th>\n",
       "      <td>1973-08-21</td>\n",
       "      <td>0.6710</td>\n",
       "    </tr>\n",
       "    <tr>\n",
       "      <th>2</th>\n",
       "      <td>1973-08-22</td>\n",
       "      <td>0.6580</td>\n",
       "    </tr>\n",
       "    <tr>\n",
       "      <th>3</th>\n",
       "      <td>1973-08-23</td>\n",
       "      <td>0.6675</td>\n",
       "    </tr>\n",
       "    <tr>\n",
       "      <th>4</th>\n",
       "      <td>1973-08-24</td>\n",
       "      <td>0.6660</td>\n",
       "    </tr>\n",
       "    <tr>\n",
       "      <th>...</th>\n",
       "      <td>...</td>\n",
       "      <td>...</td>\n",
       "    </tr>\n",
       "    <tr>\n",
       "      <th>12499</th>\n",
       "      <td>2023-06-01</td>\n",
       "      <td>NaN</td>\n",
       "    </tr>\n",
       "    <tr>\n",
       "      <th>12500</th>\n",
       "      <td>2023-06-02</td>\n",
       "      <td>NaN</td>\n",
       "    </tr>\n",
       "    <tr>\n",
       "      <th>12501</th>\n",
       "      <td>2023-06-03</td>\n",
       "      <td>NaN</td>\n",
       "    </tr>\n",
       "    <tr>\n",
       "      <th>12502</th>\n",
       "      <td>2023-06-04</td>\n",
       "      <td>NaN</td>\n",
       "    </tr>\n",
       "    <tr>\n",
       "      <th>12503</th>\n",
       "      <td>2023-06-05</td>\n",
       "      <td>NaN</td>\n",
       "    </tr>\n",
       "  </tbody>\n",
       "</table>\n",
       "<p>12504 rows × 2 columns</p>\n",
       "</div>"
      ],
      "text/plain": [
       "            date   value\n",
       "0     1973-08-20  0.6735\n",
       "1     1973-08-21  0.6710\n",
       "2     1973-08-22  0.6580\n",
       "3     1973-08-23  0.6675\n",
       "4     1973-08-24  0.6660\n",
       "...          ...     ...\n",
       "12499 2023-06-01     NaN\n",
       "12500 2023-06-02     NaN\n",
       "12501 2023-06-03     NaN\n",
       "12502 2023-06-04     NaN\n",
       "12503 2023-06-05     NaN\n",
       "\n",
       "[12504 rows x 2 columns]"
      ]
     },
     "execution_count": 11,
     "metadata": {},
     "output_type": "execute_result"
    }
   ],
   "source": [
    "# convert date to datetime\n",
    "df_cmarket['date'] = pd.to_datetime(df_cmarket['date'])\n",
    "df_cmarket"
   ]
  },
  {
   "cell_type": "code",
   "execution_count": 10,
   "id": "c8b75e4f",
   "metadata": {},
   "outputs": [
    {
     "data": {
      "text/plain": [
       "date      datetime64[ns]\n",
       " value           float64\n",
       "dtype: object"
      ]
     },
     "execution_count": 10,
     "metadata": {},
     "output_type": "execute_result"
    }
   ],
   "source": [
    "#find dtypes\n",
    "df_cmarket.dtypes"
   ]
  },
  {
   "cell_type": "code",
   "execution_count": 17,
   "id": "a8ea3958",
   "metadata": {},
   "outputs": [],
   "source": [
    "#greater than the start date and smaller than the end date\n",
    "mask = (df_cmarket['date'] > '2009-12-31') & (df_cmarket['date'] <= '2019-12-31')"
   ]
  },
  {
   "cell_type": "code",
   "execution_count": 18,
   "id": "9ad4dac0",
   "metadata": {},
   "outputs": [
    {
     "data": {
      "text/html": [
       "<div>\n",
       "<style scoped>\n",
       "    .dataframe tbody tr th:only-of-type {\n",
       "        vertical-align: middle;\n",
       "    }\n",
       "\n",
       "    .dataframe tbody tr th {\n",
       "        vertical-align: top;\n",
       "    }\n",
       "\n",
       "    .dataframe thead th {\n",
       "        text-align: right;\n",
       "    }\n",
       "</style>\n",
       "<table border=\"1\" class=\"dataframe\">\n",
       "  <thead>\n",
       "    <tr style=\"text-align: right;\">\n",
       "      <th></th>\n",
       "      <th>date</th>\n",
       "      <th>value</th>\n",
       "    </tr>\n",
       "  </thead>\n",
       "  <tbody>\n",
       "    <tr>\n",
       "      <th>9091</th>\n",
       "      <td>2010-01-04</td>\n",
       "      <td>1.4185</td>\n",
       "    </tr>\n",
       "    <tr>\n",
       "      <th>9092</th>\n",
       "      <td>2010-01-05</td>\n",
       "      <td>1.4100</td>\n",
       "    </tr>\n",
       "    <tr>\n",
       "      <th>9093</th>\n",
       "      <td>2010-01-06</td>\n",
       "      <td>1.4160</td>\n",
       "    </tr>\n",
       "    <tr>\n",
       "      <th>9094</th>\n",
       "      <td>2010-01-07</td>\n",
       "      <td>1.4190</td>\n",
       "    </tr>\n",
       "    <tr>\n",
       "      <th>9095</th>\n",
       "      <td>2010-01-08</td>\n",
       "      <td>1.4535</td>\n",
       "    </tr>\n",
       "    <tr>\n",
       "      <th>...</th>\n",
       "      <td>...</td>\n",
       "      <td>...</td>\n",
       "    </tr>\n",
       "    <tr>\n",
       "      <th>11610</th>\n",
       "      <td>2019-12-24</td>\n",
       "      <td>1.2940</td>\n",
       "    </tr>\n",
       "    <tr>\n",
       "      <th>11611</th>\n",
       "      <td>2019-12-26</td>\n",
       "      <td>1.2730</td>\n",
       "    </tr>\n",
       "    <tr>\n",
       "      <th>11612</th>\n",
       "      <td>2019-12-27</td>\n",
       "      <td>1.3250</td>\n",
       "    </tr>\n",
       "    <tr>\n",
       "      <th>11613</th>\n",
       "      <td>2019-12-30</td>\n",
       "      <td>1.3215</td>\n",
       "    </tr>\n",
       "    <tr>\n",
       "      <th>11614</th>\n",
       "      <td>2019-12-31</td>\n",
       "      <td>1.2970</td>\n",
       "    </tr>\n",
       "  </tbody>\n",
       "</table>\n",
       "<p>2524 rows × 2 columns</p>\n",
       "</div>"
      ],
      "text/plain": [
       "            date   value\n",
       "9091  2010-01-04  1.4185\n",
       "9092  2010-01-05  1.4100\n",
       "9093  2010-01-06  1.4160\n",
       "9094  2010-01-07  1.4190\n",
       "9095  2010-01-08  1.4535\n",
       "...          ...     ...\n",
       "11610 2019-12-24  1.2940\n",
       "11611 2019-12-26  1.2730\n",
       "11612 2019-12-27  1.3250\n",
       "11613 2019-12-30  1.3215\n",
       "11614 2019-12-31  1.2970\n",
       "\n",
       "[2524 rows x 2 columns]"
      ]
     },
     "execution_count": 18,
     "metadata": {},
     "output_type": "execute_result"
    }
   ],
   "source": [
    "df_10_years = df_cmarket.loc[mask]\n",
    "df_10_years"
   ]
  },
  {
   "cell_type": "code",
   "execution_count": 24,
   "id": "fe2c9854",
   "metadata": {},
   "outputs": [
    {
     "ename": "AttributeError",
     "evalue": "'Int64Index' object has no attribute 'date'",
     "output_type": "error",
     "traceback": [
      "\u001b[1;31m---------------------------------------------------------------------------\u001b[0m",
      "\u001b[1;31mAttributeError\u001b[0m                            Traceback (most recent call last)",
      "\u001b[1;32m~\\AppData\\Local\\Temp\\ipykernel_35944\\3111859964.py\u001b[0m in \u001b[0;36m<module>\u001b[1;34m\u001b[0m\n\u001b[0;32m      1\u001b[0m \u001b[1;31m# df_10_years.groupby(df_10_years.date.dt.year)['value'].transform('mean')\u001b[0m\u001b[1;33m\u001b[0m\u001b[1;33m\u001b[0m\u001b[1;33m\u001b[0m\u001b[0m\n\u001b[1;32m----> 2\u001b[1;33m \u001b[0mdf_new\u001b[0m \u001b[1;33m=\u001b[0m \u001b[0mdf_10_years\u001b[0m\u001b[1;33m.\u001b[0m\u001b[0mgroupby\u001b[0m\u001b[1;33m(\u001b[0m\u001b[1;33m[\u001b[0m\u001b[0mdf_10_years\u001b[0m\u001b[1;33m.\u001b[0m\u001b[0mindex\u001b[0m\u001b[1;33m.\u001b[0m\u001b[0mdate\u001b[0m\u001b[1;33m,\u001b[0m \u001b[0mdf\u001b[0m\u001b[1;33m.\u001b[0m\u001b[0mindex\u001b[0m\u001b[1;33m.\u001b[0m\u001b[0mvalue\u001b[0m\u001b[1;33m]\u001b[0m\u001b[1;33m)\u001b[0m\u001b[1;33m.\u001b[0m\u001b[0mmean\u001b[0m\u001b[1;33m(\u001b[0m\u001b[1;33m)\u001b[0m\u001b[1;33m\u001b[0m\u001b[1;33m\u001b[0m\u001b[0m\n\u001b[0m",
      "\u001b[1;31mAttributeError\u001b[0m: 'Int64Index' object has no attribute 'date'"
     ]
    }
   ],
   "source": [
    "# df_10_years.groupby(df_10_years.date.dt.year)['value'].transform('mean')\n",
    "# df_new = df_10_years.groupby([df_10_years.index.date, df.index.value]).mean()\n",
    "df_10_years.groupby([df_10_years['ds'].dt.strftime('%Y'),df['ds'].dt.strftime('%B')]).mean()"
   ]
  }
 ],
 "metadata": {
  "kernelspec": {
   "display_name": "mlenv",
   "language": "python",
   "name": "mlenv"
  },
  "language_info": {
   "codemirror_mode": {
    "name": "ipython",
    "version": 3
   },
   "file_extension": ".py",
   "mimetype": "text/x-python",
   "name": "python",
   "nbconvert_exporter": "python",
   "pygments_lexer": "ipython3",
   "version": "3.7.15"
  }
 },
 "nbformat": 4,
 "nbformat_minor": 5
}
